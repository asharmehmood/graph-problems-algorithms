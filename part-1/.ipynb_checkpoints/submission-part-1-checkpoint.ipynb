{
 "cells": [
  {
   "cell_type": "code",
   "execution_count": 7,
   "metadata": {},
   "outputs": [
    {
     "name": "stdout",
     "output_type": "stream",
     "text": [
      "semester 1 =>  ['cs1', 'cs2', 'cs3']\n",
      "semester 2 =>  ['cs4', 'cs6', 'cs12']\n",
      "semester 3 =>  ['cs5', 'cs7', 'cs13', 'cs14']\n",
      "semester 4 =>  ['cs8', 'cs9', 'cs15']\n",
      "semester 5 =>  ['cs11', 'cs10']\n"
     ]
    }
   ],
   "source": [
    "arr=[]\n",
    "file1=open('./inputfile','r')\n",
    "lines = file1.readlines()\n",
    "first_sem=[]\n",
    "required_by={}\n",
    "all_courses=[]\n",
    "course_counter={}\n",
    "\n",
    "with open('./inputfile', 'r') as file:\n",
    "    data = file.read().replace('\\n', ' ')\n",
    "\n",
    "for c in data.split():\n",
    "    if c.startswith('cs') and c not in (all_courses):\n",
    "        all_courses.append(c)\n",
    "\n",
    "for c in all_courses:\n",
    "    required_by[c]=[]\n",
    "    course_counter[c]=0\n",
    "    \n",
    "for ln in lines:\n",
    "    l = ln.replace('\\n','')\n",
    "    if 'requires' not in l:\n",
    "        first_sem.append(str(l).strip())\n",
    "    else:\n",
    "        if 'and' in l:\n",
    "            courses = l.split('requires')\n",
    "            c1 = courses[0]\n",
    "            cs = courses[1].split('and')\n",
    "            cs_list = list(map(lambda x:required_by[x.strip()].append(c1.strip()), cs))\n",
    "            cs_list2 = list(map(lambda x:exec(\"course_counter[c1.strip()]+=1\"), cs))\n",
    "        else:\n",
    "            courses = l.split('requires')\n",
    "            c1 = courses[0]\n",
    "            c2 = courses[1]\n",
    "            required_by[c2.strip()].append(c1.strip())\n",
    "            course_counter[c1.strip()]+=1\n",
    "\n",
    "# print(required_by)\n",
    "# print(course_counter)\n",
    "\n",
    "\n",
    "#Algorithm 1\n",
    "sem_n=first_sem\n",
    "print(\"semester 1 => \",sem_n)\n",
    "with open('./output-file', 'a') as f:\n",
    "        f.write(\"semester 1 => \"+str(sem_n)+\"\\n\")\n",
    "x=2\n",
    "while(True):\n",
    "    temp_c=[]\n",
    "    for c in sem_n:\n",
    "        temp_c+=required_by[c]\n",
    "        \n",
    "    if temp_c==[]:\n",
    "        break\n",
    "  \n",
    "    sem_n=[]\n",
    "    for c in temp_c:\n",
    "        if course_counter[c]!=0:\n",
    "            course_counter[c]-=1\n",
    "        if course_counter[c]==0:\n",
    "            sem_n.append(c)   \n",
    "    print(\"semester \"+str(x)+\" => \",sem_n)\n",
    "    with open('./output-file', 'a') as f:\n",
    "        f.write(\"semester \"+str(x)+\" => \"+str(sem_n)+\"\\n\")\n",
    "    x+=1"
   ]
  },
  {
   "cell_type": "code",
   "execution_count": null,
   "metadata": {},
   "outputs": [],
   "source": []
  }
 ],
 "metadata": {
  "kernelspec": {
   "display_name": "Python 3",
   "language": "python",
   "name": "python3"
  },
  "language_info": {
   "codemirror_mode": {
    "name": "ipython",
    "version": 3
   },
   "file_extension": ".py",
   "mimetype": "text/x-python",
   "name": "python",
   "nbconvert_exporter": "python",
   "pygments_lexer": "ipython3",
   "version": "3.7.7"
  }
 },
 "nbformat": 4,
 "nbformat_minor": 4
}
